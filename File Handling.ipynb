{
 "cells": [
  {
   "cell_type": "markdown",
   "id": "33a94473",
   "metadata": {},
   "source": [
    "# Files in python"
   ]
  },
  {
   "cell_type": "code",
   "execution_count": 1,
   "id": "8b932962",
   "metadata": {},
   "outputs": [
    {
     "data": {
      "text/plain": [
       "'E:\\\\'"
      ]
     },
     "execution_count": 1,
     "metadata": {},
     "output_type": "execute_result"
    }
   ],
   "source": [
    "pwd"
   ]
  },
  {
   "cell_type": "markdown",
   "id": "6153d2f9",
   "metadata": {},
   "source": [
    "# Change directory"
   ]
  },
  {
   "cell_type": "code",
   "execution_count": 5,
   "id": "25b00661",
   "metadata": {},
   "outputs": [],
   "source": [
    "import os\n",
    "os.chdir(\"F:\\kivy\")"
   ]
  },
  {
   "cell_type": "code",
   "execution_count": 6,
   "id": "ee451d98",
   "metadata": {},
   "outputs": [
    {
     "data": {
      "text/plain": [
       "'F:\\\\kivy'"
      ]
     },
     "execution_count": 6,
     "metadata": {},
     "output_type": "execute_result"
    }
   ],
   "source": [
    "pwd"
   ]
  },
  {
   "cell_type": "markdown",
   "id": "609047af",
   "metadata": {},
   "source": [
    "# wrire a file method 1"
   ]
  },
  {
   "cell_type": "code",
   "execution_count": 7,
   "id": "514e263e",
   "metadata": {},
   "outputs": [
    {
     "name": "stdout",
     "output_type": "stream",
     "text": [
      "Writing demo.py\n"
     ]
    }
   ],
   "source": [
    "%%writefile demo.py\n",
    "\n",
    "a = 10\n",
    "b = 20 \n",
    "c = a+b\n",
    "print(c)"
   ]
  },
  {
   "cell_type": "code",
   "execution_count": 8,
   "id": "a5a2a63e",
   "metadata": {},
   "outputs": [
    {
     "name": "stdout",
     "output_type": "stream",
     "text": [
      "Writing demo1.txt\n"
     ]
    }
   ],
   "source": [
    "%%writefile demo1.txt\n",
    "\n",
    "Please don't scroll past this. This Monday, we request you to sustain Wikipedia's independence. 98% of our readers don't donate; they simply keep reading. If you are an exceptional reader who has already donated, we sincerely thank you. If you donate just ₹ 25 today, Wikipedia could keep growing for years. We request you: please don’t scroll away. If Wikipedia has given you ₹ 25 worth of knowledge, kindly take a minute to donate. Show the world that access to reliable, neutral information matters to you. Thank you."
   ]
  },
  {
   "cell_type": "code",
   "execution_count": null,
   "id": "d18d1575",
   "metadata": {},
   "outputs": [],
   "source": [
    "open()"
   ]
  },
  {
   "cell_type": "code",
   "execution_count": 85,
   "id": "60a1d3e9",
   "metadata": {},
   "outputs": [],
   "source": [
    "with open(\"demo.txt\",\"w\") as f:\n",
    "    f.writelines(\"abcd how may i help you.\\nhello\")"
   ]
  },
  {
   "cell_type": "code",
   "execution_count": 29,
   "id": "67c82bbf",
   "metadata": {},
   "outputs": [],
   "source": [
    "data = b\"data science is used for solving usecases.\""
   ]
  },
  {
   "cell_type": "code",
   "execution_count": 35,
   "id": "0b2802f5",
   "metadata": {},
   "outputs": [],
   "source": [
    "os.remove(\"demo.py\")"
   ]
  },
  {
   "cell_type": "code",
   "execution_count": null,
   "id": "f092ff8d",
   "metadata": {},
   "outputs": [],
   "source": [
    "os.chdir()"
   ]
  },
  {
   "cell_type": "markdown",
   "id": "7991a997",
   "metadata": {},
   "source": [
    "# Find  files in a folder"
   ]
  },
  {
   "cell_type": "code",
   "execution_count": 38,
   "id": "fd4a9953",
   "metadata": {},
   "outputs": [],
   "source": [
    "os.chdir(\"F:\\kivy\")"
   ]
  },
  {
   "cell_type": "code",
   "execution_count": 40,
   "id": "4dadc5c8",
   "metadata": {},
   "outputs": [
    {
     "name": "stdout",
     "output_type": "stream",
     "text": [
      "demo.txt\n",
      "demo1.txt\n",
      "test_folder\n",
      "zip\n",
      "[FreeCourseSite.com] Udemy - Python Kivy The Full Guide\n"
     ]
    }
   ],
   "source": [
    "for i in os.listdir(\".\"): # text files\n",
    "    print(i )"
   ]
  },
  {
   "cell_type": "markdown",
   "id": "c2690f2c",
   "metadata": {},
   "source": [
    "# Find text 1 files in a folder"
   ]
  },
  {
   "cell_type": "code",
   "execution_count": 55,
   "id": "2cd38ae6",
   "metadata": {},
   "outputs": [
    {
     "name": "stdout",
     "output_type": "stream",
     "text": [
      "enter ur extension : txt\n",
      "demo.txt\n",
      "demo1.txt\n"
     ]
    }
   ],
   "source": [
    "ext = input(\"enter ur extension : \")\n",
    "for i in os.listdir(\".\"): # text files\n",
    "#     print(i.split(\".\"))\n",
    "    if i.split(\".\")[-1] == ext:\n",
    "        print(i)"
   ]
  },
  {
   "cell_type": "markdown",
   "id": "a396f5fd",
   "metadata": {},
   "source": [
    "# cerate a folder and push the ext into the folder"
   ]
  },
  {
   "cell_type": "code",
   "execution_count": 59,
   "id": "60b6091b",
   "metadata": {},
   "outputs": [
    {
     "name": "stdout",
     "output_type": "stream",
     "text": [
      "enter ur extension : py\n"
     ]
    }
   ],
   "source": [
    "import shutil # file handling \n",
    "ext = input(\"enter ur extension : \")\n",
    "for i in os.listdir(\".\"): # text files\n",
    "#     print(i.split(\".\"))\n",
    "    if i.split(\".\")[-1] == ext:\n",
    "        os.makedirs(ext,exist_ok=True)\n",
    "        shutil.move(i,os.path.join(ext,i))"
   ]
  },
  {
   "cell_type": "code",
   "execution_count": 56,
   "id": "05a9ecdc",
   "metadata": {},
   "outputs": [],
   "source": [
    "import shutil"
   ]
  },
  {
   "cell_type": "code",
   "execution_count": 57,
   "id": "12cfb4c8",
   "metadata": {},
   "outputs": [
    {
     "data": {
      "text/plain": [
       "'a\\\\b'"
      ]
     },
     "execution_count": 57,
     "metadata": {},
     "output_type": "execute_result"
    }
   ],
   "source": [
    "os.path.join(\"a\",\"b\")"
   ]
  },
  {
   "cell_type": "code",
   "execution_count": 62,
   "id": "472484a2",
   "metadata": {},
   "outputs": [
    {
     "name": "stdout",
     "output_type": "stream",
     "text": [
      "enter ur extension : txt\n"
     ]
    }
   ],
   "source": [
    "import shutil # remove ext files from a loc \n",
    "ext = input(\"enter ur extension : \")\n",
    "for i in os.listdir(\".\"): # text files\n",
    "#     print(i.split(\".\"))\n",
    "    if i.split(\".\")[-1] == ext:\n",
    "        shutil.rmtree(i)\n",
    "        "
   ]
  },
  {
   "cell_type": "code",
   "execution_count": 63,
   "id": "13268da7",
   "metadata": {},
   "outputs": [
    {
     "data": {
      "text/plain": [
       "'F:\\\\kivy'"
      ]
     },
     "execution_count": 63,
     "metadata": {},
     "output_type": "execute_result"
    }
   ],
   "source": [
    "pwd"
   ]
  },
  {
   "cell_type": "code",
   "execution_count": 65,
   "id": "c6cbd117",
   "metadata": {},
   "outputs": [],
   "source": [
    "os.chdir(\"E:\")"
   ]
  },
  {
   "cell_type": "code",
   "execution_count": 66,
   "id": "01e6a685",
   "metadata": {},
   "outputs": [
    {
     "data": {
      "text/plain": [
       "'E:\\\\'"
      ]
     },
     "execution_count": 66,
     "metadata": {},
     "output_type": "execute_result"
    }
   ],
   "source": [
    "pwd"
   ]
  },
  {
   "cell_type": "code",
   "execution_count": 69,
   "id": "948b8216",
   "metadata": {},
   "outputs": [
    {
     "name": "stderr",
     "output_type": "stream",
     "text": [
      "UsageError: %%writefile is a cell magic, but the cell body is empty.\n"
     ]
    }
   ],
   "source": [
    "%%writefile Hello.txt\n",
    "\n",
    "\n"
   ]
  },
  {
   "cell_type": "code",
   "execution_count": 70,
   "id": "0810711c",
   "metadata": {},
   "outputs": [
    {
     "data": {
      "text/plain": [
       "'E:\\\\'"
      ]
     },
     "execution_count": 70,
     "metadata": {},
     "output_type": "execute_result"
    }
   ],
   "source": [
    "pwd"
   ]
  },
  {
   "cell_type": "code",
   "execution_count": 80,
   "id": "17a9e1b5",
   "metadata": {},
   "outputs": [],
   "source": [
    "with open(\"abcd.txt\",\"w\") as f:\n",
    "    f.write(\" \")"
   ]
  },
  {
   "cell_type": "code",
   "execution_count": 76,
   "id": "ece53636",
   "metadata": {},
   "outputs": [],
   "source": [
    "f1 = open(\"hellos.txt\",\"w\") "
   ]
  },
  {
   "cell_type": "code",
   "execution_count": 78,
   "id": "f5b311f7",
   "metadata": {},
   "outputs": [],
   "source": [
    "f1.close()"
   ]
  },
  {
   "cell_type": "code",
   "execution_count": 79,
   "id": "3064c1fa",
   "metadata": {},
   "outputs": [
    {
     "data": {
      "text/plain": [
       "<_io.TextIOWrapper name='hellos.txt' mode='w' encoding='cp1252'>"
      ]
     },
     "execution_count": 79,
     "metadata": {},
     "output_type": "execute_result"
    }
   ],
   "source": [
    "f1"
   ]
  },
  {
   "cell_type": "code",
   "execution_count": 91,
   "id": "31d7a0fc",
   "metadata": {},
   "outputs": [
    {
     "data": {
      "text/plain": [
       "<_io.TextIOWrapper name='demo.txt' mode='w' encoding='cp1252'>"
      ]
     },
     "execution_count": 91,
     "metadata": {},
     "output_type": "execute_result"
    }
   ],
   "source": [
    "f"
   ]
  },
  {
   "cell_type": "code",
   "execution_count": 93,
   "id": "23aa7ca4",
   "metadata": {},
   "outputs": [
    {
     "name": "stdout",
     "output_type": "stream",
     "text": [
      "abcd.txt\n",
      "demo.txt\n",
      "hello.txt\n",
      "hellos.txt\n"
     ]
    }
   ],
   "source": [
    "for i in os.listdir(\".\"): # text files\n",
    "#     print(i.split(\".\"))\n",
    "    if i.split(\".\")[-1] == \"txt\":\n",
    "        print(i)"
   ]
  },
  {
   "cell_type": "code",
   "execution_count": 5,
   "id": "863d22a5",
   "metadata": {},
   "outputs": [],
   "source": [
    "data = \"data science\"\n",
    "for i in range(1,6):\n",
    "    f = open(f\"file_{i}.txt\" ,\"w\") \n",
    "    f.writelines(data)\n",
    "    f.close()"
   ]
  },
  {
   "cell_type": "code",
   "execution_count": 6,
   "id": "4680af83",
   "metadata": {},
   "outputs": [],
   "source": [
    "os.renames(\"file_1.txt\",\"file_100.txt\")"
   ]
  },
  {
   "cell_type": "code",
   "execution_count": 7,
   "id": "3650579f",
   "metadata": {},
   "outputs": [
    {
     "name": "stdout",
     "output_type": "stream",
     "text": [
      "files names updated.\n"
     ]
    }
   ],
   "source": [
    "a = 0\n",
    "for i in os.listdir(\".\"):\n",
    "#     print(i)\n",
    "    if i.split(\".\")[-1] == \"txt\":\n",
    "        a+=1\n",
    "        os.rename(i,f\"{a}.txt\")\n",
    "print(\"files names updated.\")"
   ]
  },
  {
   "cell_type": "code",
   "execution_count": 100,
   "id": "42ce84b2",
   "metadata": {},
   "outputs": [
    {
     "data": {
      "text/plain": [
       "'E:\\\\'"
      ]
     },
     "execution_count": 100,
     "metadata": {},
     "output_type": "execute_result"
    }
   ],
   "source": [
    "pwd"
   ]
  },
  {
   "cell_type": "code",
   "execution_count": 23,
   "id": "ad4ab3ae",
   "metadata": {},
   "outputs": [],
   "source": [
    "# def file(fname):\n",
    "#     with open(fname,\"r\") as f:\n",
    "#         data = f.read()\n",
    "#     return data"
   ]
  },
  {
   "cell_type": "code",
   "execution_count": 24,
   "id": "f5c13867",
   "metadata": {},
   "outputs": [],
   "source": [
    "with open(\"demo.jpeg\",\"w\") as f:\n",
    "    f.writelines(\"hello\\n Hello\")"
   ]
  },
  {
   "cell_type": "code",
   "execution_count": 26,
   "id": "011e56af",
   "metadata": {},
   "outputs": [
    {
     "name": "stdout",
     "output_type": "stream",
     "text": [
      "1.txt ->->->->->  \n",
      "**************************************************\n",
      "10.txt ->->->->-> data science\n",
      "**************************************************\n",
      "11.txt ->->->->-> data science\n",
      "**************************************************\n",
      "12.txt ->->->->-> data science\n",
      "**************************************************\n",
      "13.txt ->->->->-> data science\n",
      "**************************************************\n",
      "14.txt ->->->->-> data science\n",
      "**************************************************\n",
      "2.txt ->->->->-> abcd how may i help you.\n",
      "hello\n",
      "**************************************************\n",
      "3.txt ->->->->-> data science\n",
      "**************************************************\n",
      "4.txt ->->->->-> data science\n",
      "**************************************************\n",
      "5.txt ->->->->-> data science\n",
      "**************************************************\n",
      "6.txt ->->->->-> data science\n",
      "**************************************************\n",
      "7.txt ->->->->-> data science\n",
      "**************************************************\n",
      "8.txt ->->->->-> \n",
      "**************************************************\n",
      "9.txt ->->->->-> \n",
      "**************************************************\n"
     ]
    }
   ],
   "source": [
    "for i in os.listdir(\".\"):\n",
    "    if i.split(\".\")[-1] == \"txt\":\n",
    "        content = file(i)\n",
    "        print(i,\"->\"*5,content)\n",
    "        print(\"*\"*50)"
   ]
  },
  {
   "cell_type": "code",
   "execution_count": 19,
   "id": "683fb98c",
   "metadata": {},
   "outputs": [
    {
     "name": "stdout",
     "output_type": "stream",
     "text": [
      "hello\n",
      "None\n"
     ]
    }
   ],
   "source": [
    "print(print(\"hello\"))"
   ]
  },
  {
   "cell_type": "code",
   "execution_count": 27,
   "id": "989e6b05",
   "metadata": {},
   "outputs": [
    {
     "data": {
      "text/plain": [
       "'E:\\\\'"
      ]
     },
     "execution_count": 27,
     "metadata": {},
     "output_type": "execute_result"
    }
   ],
   "source": [
    "pwd"
   ]
  },
  {
   "cell_type": "code",
   "execution_count": 33,
   "id": "d7f08a22",
   "metadata": {},
   "outputs": [
    {
     "name": "stdout",
     "output_type": "stream",
     "text": [
      "!qhlogs.doc\n",
      "$RECYCLE.BIN\n",
      ".ipynb_checkpoints\n",
      "1.txt\n",
      "10.txt\n",
      "11.txt\n",
      "12.txt\n",
      "13.txt\n",
      "14.txt\n",
      "2.txt\n",
      "3.txt\n",
      "4.txt\n",
      "5.txt\n",
      "6.txt\n",
      "7.txt\n",
      "8.txt\n",
      "9.txt\n",
      "abcd.py\n",
      "check\n",
      "demo.jpeg\n",
      "demo.pdf\n",
      "File Handling.ipynb\n",
      "jupyter\n",
      "Scraper\n",
      "scrapy.xlsx\n",
      "System Volume Information\n"
     ]
    }
   ],
   "source": [
    "import os\n",
    "os.chdir(\"E:\")\n",
    "for i in os.listdir(\".\"):\n",
    "    print(i)"
   ]
  },
  {
   "cell_type": "code",
   "execution_count": 34,
   "id": "b353e69f",
   "metadata": {},
   "outputs": [
    {
     "data": {
      "text/plain": [
       "'E:\\\\'"
      ]
     },
     "execution_count": 34,
     "metadata": {},
     "output_type": "execute_result"
    }
   ],
   "source": [
    "pwd"
   ]
  },
  {
   "cell_type": "code",
   "execution_count": 35,
   "id": "c92c90c7",
   "metadata": {},
   "outputs": [],
   "source": [
    "os.chdir(\"F:\")"
   ]
  },
  {
   "cell_type": "code",
   "execution_count": 37,
   "id": "a4e5deb8",
   "metadata": {},
   "outputs": [
    {
     "name": "stdout",
     "output_type": "stream",
     "text": [
      "!qhlogs.doc\n",
      "$RECYCLE.BIN\n",
      "1. PYTHON durga.pdf\n",
      "Audio\n",
      "Chandu pendrive\n",
      "Chinna annaya call recored\n",
      "f DRIVE\n",
      "God songs\n",
      "God songs 2\n",
      "kivy\n",
      "kivy video lessons\n",
      "My Python Projects\n",
      "Python downloads\n",
      "Received\n",
      "Recordings\n",
      "Sri Rama Rajyam 07 Ramayanamu.mp3\n",
      "System Volume Information\n",
      "Windows.iso\n"
     ]
    }
   ],
   "source": [
    "for i in os.listdir(\".\"):\n",
    "    print(i)"
   ]
  },
  {
   "cell_type": "code",
   "execution_count": 38,
   "id": "1acdbc5d",
   "metadata": {},
   "outputs": [
    {
     "data": {
      "text/plain": [
       "'F:\\\\'"
      ]
     },
     "execution_count": 38,
     "metadata": {},
     "output_type": "execute_result"
    }
   ],
   "source": [
    "pwd"
   ]
  },
  {
   "cell_type": "code",
   "execution_count": 39,
   "id": "5bb0213c",
   "metadata": {},
   "outputs": [
    {
     "data": {
      "text/plain": [
       "'F:\\\\Received'"
      ]
     },
     "execution_count": 39,
     "metadata": {},
     "output_type": "execute_result"
    }
   ],
   "source": [
    "os.path.join(\"F:\\\\Received\")"
   ]
  },
  {
   "cell_type": "code",
   "execution_count": 40,
   "id": "17c4f024",
   "metadata": {},
   "outputs": [
    {
     "data": {
      "text/plain": [
       "'F:\\\\'"
      ]
     },
     "execution_count": 40,
     "metadata": {},
     "output_type": "execute_result"
    }
   ],
   "source": [
    "pwd"
   ]
  },
  {
   "cell_type": "code",
   "execution_count": 41,
   "id": "f35bc724",
   "metadata": {},
   "outputs": [
    {
     "data": {
      "text/plain": [
       "'F:\\\\Chandu pendrive'"
      ]
     },
     "execution_count": 41,
     "metadata": {},
     "output_type": "execute_result"
    }
   ],
   "source": [
    "os.path.join(\"F:\\\\Chandu pendrive\")"
   ]
  },
  {
   "cell_type": "code",
   "execution_count": 42,
   "id": "46540fa9",
   "metadata": {},
   "outputs": [
    {
     "data": {
      "text/plain": [
       "['!qhlogs.doc',\n",
       " '$RECYCLE.BIN',\n",
       " '1. PYTHON durga.pdf',\n",
       " 'Audio',\n",
       " 'Chandu pendrive',\n",
       " 'Chinna annaya call recored',\n",
       " 'f DRIVE',\n",
       " 'God songs',\n",
       " 'God songs 2',\n",
       " 'kivy',\n",
       " 'kivy video lessons',\n",
       " 'My Python Projects',\n",
       " 'Python downloads',\n",
       " 'Received',\n",
       " 'Recordings',\n",
       " 'Sri Rama Rajyam 07 Ramayanamu.mp3',\n",
       " 'System Volume Information',\n",
       " 'Windows.iso']"
      ]
     },
     "execution_count": 42,
     "metadata": {},
     "output_type": "execute_result"
    }
   ],
   "source": [
    "os.listdir()"
   ]
  },
  {
   "cell_type": "code",
   "execution_count": 43,
   "id": "2141e45b",
   "metadata": {},
   "outputs": [],
   "source": [
    "os.chdir(\"Chandu pendrive\")"
   ]
  },
  {
   "cell_type": "code",
   "execution_count": 44,
   "id": "f44ada9a",
   "metadata": {},
   "outputs": [
    {
     "data": {
      "text/plain": [
       "'F:\\\\Chandu pendrive'"
      ]
     },
     "execution_count": 44,
     "metadata": {},
     "output_type": "execute_result"
    }
   ],
   "source": [
    "pwd"
   ]
  },
  {
   "cell_type": "code",
   "execution_count": 45,
   "id": "c15b13b3",
   "metadata": {},
   "outputs": [
    {
     "data": {
      "text/plain": [
       "['.mediadb',\n",
       " '.mediaexplorer',\n",
       " '1 Costal Hospital guntur.xlsx',\n",
       " '14 Costal Hospital guntur.xlsx',\n",
       " '2 - Vedantha Hospital.xlsx',\n",
       " '2021',\n",
       " '26 Uday Hospitals Invoice.xlsx',\n",
       " '27 - Vedantha Hospital.xlsx',\n",
       " '4555',\n",
       " 'AAAAA',\n",
       " 'Android',\n",
       " 'April',\n",
       " 'August',\n",
       " 'Chandu redmi 6pro',\n",
       " 'Dec',\n",
       " 'December',\n",
       " 'Decembr 11',\n",
       " \"desk'\",\n",
       " 'Desktop clear 23-11-2020',\n",
       " \"docu'\",\n",
       " 'Documentsclear',\n",
       " 'Hari 11',\n",
       " 'January',\n",
       " 'john',\n",
       " 'July',\n",
       " 'July 11',\n",
       " 'June 1',\n",
       " 'June-19',\n",
       " 'Kishor',\n",
       " 'LG Smart TV',\n",
       " 'LOST.DIR',\n",
       " 'mani need mani',\n",
       " 'March',\n",
       " 'March & June 2020',\n",
       " 'March 1',\n",
       " 'May-19',\n",
       " 'New folder',\n",
       " 'New folder (2)',\n",
       " 'new movies',\n",
       " 'Nov  New',\n",
       " 'November',\n",
       " 'October',\n",
       " 'Passport',\n",
       " 'phone',\n",
       " 'PUAM',\n",
       " 'Purushotham',\n",
       " 'Ravi gaane',\n",
       " 'Scan-Chandu.jpg',\n",
       " 'Sep New 2019',\n",
       " 'Septmber',\n",
       " 'shared',\n",
       " 'Srikanth hospitals Letter.docx',\n",
       " '\\xa0']"
      ]
     },
     "execution_count": 45,
     "metadata": {},
     "output_type": "execute_result"
    }
   ],
   "source": [
    "os.listdir()"
   ]
  },
  {
   "cell_type": "code",
   "execution_count": 55,
   "id": "c266c8b5",
   "metadata": {},
   "outputs": [
    {
     "name": "stdout",
     "output_type": "stream",
     "text": [
      "Srikanth hospitals Letter.docx\n"
     ]
    }
   ],
   "source": [
    "for i in os.listdir(\".\"):\n",
    "    if i.split(\".\")[-1]==\"docx\":\n",
    "        print(i)\n",
    "    "
   ]
  },
  {
   "cell_type": "code",
   "execution_count": 56,
   "id": "4fbaafa2",
   "metadata": {},
   "outputs": [
    {
     "data": {
      "text/plain": [
       "'F:\\\\Chandu pendrive'"
      ]
     },
     "execution_count": 56,
     "metadata": {},
     "output_type": "execute_result"
    }
   ],
   "source": [
    "pwd"
   ]
  },
  {
   "cell_type": "code",
   "execution_count": 81,
   "id": "bce003a5",
   "metadata": {},
   "outputs": [],
   "source": [
    "# for path,folder,file in os.walk(os.getcwd()):\n",
    "#     print(file)"
   ]
  },
  {
   "cell_type": "code",
   "execution_count": 82,
   "id": "850c9f95",
   "metadata": {
    "scrolled": false
   },
   "outputs": [
    {
     "name": "stdout",
     "output_type": "stream",
     "text": [
      "F:\\Chandu pendrive\\2021\\Exp Nov & Jan 209041622175_443500014157_20210114.pdf\n",
      "F:\\Chandu pendrive\\2021\\Feb 21 400041617037_464500020824_20210214.pdf\n",
      "F:\\Chandu pendrive\\AAAAA COSTAL 28 OCA.pdf\n",
      "F:\\Chandu pendrive\\AAAAA Narasapuram.pdf\n",
      "F:\\Chandu pendrive\\AAAAA\\Daily report 2020\\4555 COSTAL 28 OCA.pdf\n",
      "F:\\Chandu pendrive\\AAAAA\\Daily report 2020\\4555 Guntur Kidny 26.pdf\n",
      "F:\\Chandu pendrive\\AAAAA\\Daily report 2020\\Oct 2020\\Kalayani ac5859a0_f31e_45f9_86e3_669d7f645a69.pdf\n",
      "F:\\Chandu pendrive\\AAAAA\\Nov 2020 209041622175_461000012329_20201114.pdf\n",
      "F:\\Chandu pendrive\\August\\Aug 31 73415450-20190817.pdf\n",
      "F:\\Chandu pendrive\\Chandu redmi 6pro\\CamScanner New Doc 2019-08-10 16.17.07.pdf\n",
      "F:\\Chandu pendrive\\Chandu redmi 6pro\\CamScanner New Doc 2019-08-16 16.39.20.pdf\n",
      "F:\\Chandu pendrive\\Chandu redmi 6pro\\CamScanner New Doc 2019-09-03 22.16.22.pdf\n",
      "F:\\Chandu pendrive\\Chandu redmi 6pro\\CamScanner New Doc 2019-10-12 09.22.17.pdf\n",
      "F:\\Chandu pendrive\\Chandu redmi 6pro\\CamScanner New Doc 2019-10-18 17.25.03.pdf\n",
      "F:\\Chandu pendrive\\Chandu redmi 6pro\\Download 2183975CE01.pdf\n",
      "F:\\Chandu pendrive\\Chandu redmi 6pro\\Download 73415450-20190717(1).pdf\n",
      "F:\\Chandu pendrive\\Chandu redmi 6pro\\Download 73415450-20190717.pdf\n",
      "F:\\Chandu pendrive\\Chandu redmi 6pro\\Download icmr_1893664.pdf\n",
      "F:\\Chandu pendrive\\Chandu redmi 6pro\\Download ISENS _Sales Order - PI-2020-1680.pdf\n",
      "F:\\Chandu pendrive\\Chandu redmi 6pro\\Download ISENS _Sales Order - PI-2020-2911_Lalitha_R8.pdf\n",
      "F:\\Chandu pendrive\\Chandu redmi 6pro\\Download ISENS _Sales Order - PI-2020-2917_Rakshaa_R8.pdf\n",
      "F:\\Chandu pendrive\\Chandu redmi 6pro\\Download ISENS _Sales Order - PI-2021-285.pdf\n",
      "F:\\Chandu pendrive\\Chandu redmi 6pro\\Download ISENS _Sales Order - PI-2021-292.pdf\n",
      "F:\\Chandu pendrive\\Chandu redmi 6pro\\Download ISENS _Sales Order - PI-2021-54.pdf\n",
      "F:\\Chandu pendrive\\Chandu redmi 6pro\\Download RP04 Siva Kidney care Hospitals Invoice.pdf\n",
      "F:\\Chandu pendrive\\Chandu redmi 6pro\\Download Table 1 - List of Candidates Applied .pdf\n",
      "F:\\Chandu pendrive\\Chandu redmi 6pro\\WhatsApp\\Media\\WhatsApp Documents 01317111006874820200313.pdf\n",
      "F:\\Chandu pendrive\\Chandu redmi 6pro\\WhatsApp\\Media\\WhatsApp Documents 1 Mar 2021 – ₹2,400 paid to chandu anagani on Google Pay.pdf\n",
      "F:\\Chandu pendrive\\Chandu redmi 6pro\\WhatsApp\\Media\\WhatsApp Documents 100 Positive_cases_in_VJA.pdf\n",
      "F:\\Chandu pendrive\\Chandu redmi 6pro\\WhatsApp\\Media\\WhatsApp Documents 12592.pdf\n",
      "F:\\Chandu pendrive\\Chandu redmi 6pro\\WhatsApp\\Media\\WhatsApp Documents 16 Nov 2020 – ₹574 paid to chandu anagani on Google Pay.pdf\n",
      "F:\\Chandu pendrive\\Chandu redmi 6pro\\WhatsApp\\Media\\WhatsApp Documents 18-19 ISENS _Account Ledger.pdf\n",
      "F:\\Chandu pendrive\\Chandu redmi 6pro\\WhatsApp\\Media\\WhatsApp Documents 19-20 ISENS _Account Ledger.pdf\n",
      "F:\\Chandu pendrive\\Chandu redmi 6pro\\WhatsApp\\Media\\WhatsApp Documents 2-1.pdf\n",
      "F:\\Chandu pendrive\\Chandu redmi 6pro\\WhatsApp\\Media\\WhatsApp Documents 24 Aug 2020 – ₹1,500 paid to chandu anagani on Google Pay.pdf\n",
      "F:\\Chandu pendrive\\Chandu redmi 6pro\\WhatsApp\\Media\\WhatsApp Documents 3-1.pdf\n",
      "F:\\Chandu pendrive\\Chandu redmi 6pro\\WhatsApp\\Media\\WhatsApp Documents 3. List of Holiday_2021_ISENS India Office Staff.pdf\n",
      "F:\\Chandu pendrive\\Chandu redmi 6pro\\WhatsApp\\Media\\WhatsApp Documents 31710304.pdf\n",
      "F:\\Chandu pendrive\\Chandu redmi 6pro\\WhatsApp\\Media\\WhatsApp Documents 33673.pdf\n",
      "F:\\Chandu pendrive\\Chandu redmi 6pro\\WhatsApp\\Media\\WhatsApp Documents 4-1.pdf\n",
      "F:\\Chandu pendrive\\Chandu redmi 6pro\\WhatsApp\\Media\\WhatsApp Documents 44-Chaitra hospital TAX invoice.pdf\n",
      "F:\\Chandu pendrive\\Chandu redmi 6pro\\WhatsApp\\Media\\WhatsApp Documents 50463.pdf\n",
      "F:\\Chandu pendrive\\Chandu redmi 6pro\\WhatsApp\\Media\\WhatsApp Documents A. Chandra Sekhar.pdf\n",
      "F:\\Chandu pendrive\\Chandu redmi 6pro\\WhatsApp\\Media\\WhatsApp Documents A.Chandra Sekhar.pdf\n",
      "F:\\Chandu pendrive\\Chandu redmi 6pro\\WhatsApp\\Media\\WhatsApp Documents Accounting Voucher  Display .pdf\n",
      "F:\\Chandu pendrive\\Chandu redmi 6pro\\WhatsApp\\Media\\WhatsApp Documents Accounting Voucher  Display 1.pdf\n",
      "F:\\Chandu pendrive\\Chandu redmi 6pro\\WhatsApp\\Media\\WhatsApp Documents AP01620210034621.pdf\n",
      "F:\\Chandu pendrive\\Chandu redmi 6pro\\WhatsApp\\Media\\WhatsApp Documents BAP 2020 PACKAGE PRICE LIST WITH BV.pdf\n",
      "F:\\Chandu pendrive\\Chandu redmi 6pro\\WhatsApp\\Media\\WhatsApp Documents Book9.pdf\n",
      "F:\\Chandu pendrive\\Chandu redmi 6pro\\WhatsApp\\Media\\WhatsApp Documents COPOR@00152.pdf\n",
      "F:\\Chandu pendrive\\Chandu redmi 6pro\\WhatsApp\\Media\\WhatsApp Documents covid hospitals list.pdf\n",
      "F:\\Chandu pendrive\\Chandu redmi 6pro\\WhatsApp\\Media\\WhatsApp Documents Covid-19_Pass_Angani Chandrasekhar_R8S3.pdf\n",
      "F:\\Chandu pendrive\\Chandu redmi 6pro\\WhatsApp\\Media\\WhatsApp Documents CS Pro.pdf\n",
      "F:\\Chandu pendrive\\Chandu redmi 6pro\\WhatsApp\\Media\\WhatsApp Documents HAOMA WHEY PROTIEN.pdf\n",
      "F:\\Chandu pendrive\\Chandu redmi 6pro\\WhatsApp\\Media\\WhatsApp Documents Holiday List 2019.pdf\n",
      "F:\\Chandu pendrive\\Chandu redmi 6pro\\WhatsApp\\Media\\WhatsApp Documents ISENS _Sales - I-M-000029.pdf\n",
      "F:\\Chandu pendrive\\Chandu redmi 6pro\\WhatsApp\\Media\\WhatsApp Documents ISENS _Sales - I-M-000030.pdf\n",
      "F:\\Chandu pendrive\\Chandu redmi 6pro\\WhatsApp\\Media\\WhatsApp Documents ISENS _Sales - I-M-000055.pdf\n",
      "F:\\Chandu pendrive\\Chandu redmi 6pro\\WhatsApp\\Media\\WhatsApp Documents ISENS _Sales Order - PI-2019-117_Lalitha.pdf\n",
      "F:\\Chandu pendrive\\Chandu redmi 6pro\\WhatsApp\\Media\\WhatsApp Documents ISENS _Sales Order - PI-2019-127_Ruhika.pdf\n",
      "F:\\Chandu pendrive\\Chandu redmi 6pro\\WhatsApp\\Media\\WhatsApp Documents ISENS _Sales Order - PI-2019-136_S.pdf\n",
      "F:\\Chandu pendrive\\Chandu redmi 6pro\\WhatsApp\\Media\\WhatsApp Documents ISENS _Sales Order - PI-2019-1404_Manipal_R8.pdf\n",
      "F:\\Chandu pendrive\\Chandu redmi 6pro\\WhatsApp\\Media\\WhatsApp Documents ISENS _Sales Order - PI-2019-1408_Royal_R8.pdf\n",
      "F:\\Chandu pendrive\\Chandu redmi 6pro\\WhatsApp\\Media\\WhatsApp Documents ISENS _Sales Order - PI-2019-1454_Ruhika.pdf\n",
      "F:\\Chandu pendrive\\Chandu redmi 6pro\\WhatsApp\\Media\\WhatsApp Documents ISENS _Sales Order - PI-2019-1519_Royal_R8.pdf\n",
      "F:\\Chandu pendrive\\Chandu redmi 6pro\\WhatsApp\\Media\\WhatsApp Documents ISENS _Sales Order - PI-2019-1544_Ruhika_R8-1.pdf\n",
      "F:\\Chandu pendrive\\Chandu redmi 6pro\\WhatsApp\\Media\\WhatsApp Documents ISENS _Sales Order - PI-2019-1544_Ruhika_R8.pdf\n",
      "F:\\Chandu pendrive\\Chandu redmi 6pro\\WhatsApp\\Media\\WhatsApp Documents ISENS _Sales Order - PI-2019-1554_Lalitha_R8.pdf\n",
      "F:\\Chandu pendrive\\Chandu redmi 6pro\\WhatsApp\\Media\\WhatsApp Documents ISENS _Sales Order - PI-2019-1584_Raksh_R8.pdf\n",
      "F:\\Chandu pendrive\\Chandu redmi 6pro\\WhatsApp\\Media\\WhatsApp Documents ISENS _Sales Order - PI-2019-163_rAKSHA pHARMA.pdf\n",
      "F:\\Chandu pendrive\\Chandu redmi 6pro\\WhatsApp\\Media\\WhatsApp Documents ISENS _Sales Order - PI-2019-180.pdf\n",
      "F:\\Chandu pendrive\\Chandu redmi 6pro\\WhatsApp\\Media\\WhatsApp Documents ISENS _Sales Order - PI-2019-198.pdf\n",
      "F:\\Chandu pendrive\\Chandu redmi 6pro\\WhatsApp\\Media\\WhatsApp Documents ISENS _Sales Order - PI-2019-2224.pdf\n",
      "F:\\Chandu pendrive\\Chandu redmi 6pro\\WhatsApp\\Media\\WhatsApp Documents ISENS _Sales Order - PI-2019-2254.pdf\n",
      "F:\\Chandu pendrive\\Chandu redmi 6pro\\WhatsApp\\Media\\WhatsApp Documents ISENS _Sales Order - PI-2019-2291.pdf\n",
      "F:\\Chandu pendrive\\Chandu redmi 6pro\\WhatsApp\\Media\\WhatsApp Documents ISENS _Sales Order - PI-2019-237.pdf\n",
      "F:\\Chandu pendrive\\Chandu redmi 6pro\\WhatsApp\\Media\\WhatsApp Documents ISENS _Sales Order - PI-2019-2668.pdf\n",
      "F:\\Chandu pendrive\\Chandu redmi 6pro\\WhatsApp\\Media\\WhatsApp Documents ISENS _Sales Order - PI-2019-2691.pdf\n",
      "F:\\Chandu pendrive\\Chandu redmi 6pro\\WhatsApp\\Media\\WhatsApp Documents ISENS _Sales Order - PI-2019-2729_Raksa_R8.pdf\n",
      "F:\\Chandu pendrive\\Chandu redmi 6pro\\WhatsApp\\Media\\WhatsApp Documents ISENS _Sales Order - PI-2019-272_Ruhika.pdf\n",
      "F:\\Chandu pendrive\\Chandu redmi 6pro\\WhatsApp\\Media\\WhatsApp Documents ISENS _Sales Order - PI-2019-2755_Ruhika_R8.pdf\n",
      "F:\\Chandu pendrive\\Chandu redmi 6pro\\WhatsApp\\Media\\WhatsApp Documents ISENS _Sales Order - PI-2019-279.pdf\n",
      "F:\\Chandu pendrive\\Chandu redmi 6pro\\WhatsApp\\Media\\WhatsApp Documents ISENS _Sales Order - PI-2019-2938.pdf\n",
      "F:\\Chandu pendrive\\Chandu redmi 6pro\\WhatsApp\\Media\\WhatsApp Documents ISENS _Sales Order - PI-2019-2954.pdf\n",
      "F:\\Chandu pendrive\\Chandu redmi 6pro\\WhatsApp\\Media\\WhatsApp Documents ISENS _Sales Order - PI-2019-297.pdf\n",
      "F:\\Chandu pendrive\\Chandu redmi 6pro\\WhatsApp\\Media\\WhatsApp Documents ISENS _Sales Order - PI-2019-2980.pdf\n",
      "F:\\Chandu pendrive\\Chandu redmi 6pro\\WhatsApp\\Media\\WhatsApp Documents ISENS _Sales Order - PI-2019-3018.pdf\n",
      "F:\\Chandu pendrive\\Chandu redmi 6pro\\WhatsApp\\Media\\WhatsApp Documents ISENS _Sales Order - PI-2019-3042.pdf\n",
      "F:\\Chandu pendrive\\Chandu redmi 6pro\\WhatsApp\\Media\\WhatsApp Documents ISENS _Sales Order - PI-2019-3179.pdf\n",
      "F:\\Chandu pendrive\\Chandu redmi 6pro\\WhatsApp\\Media\\WhatsApp Documents ISENS _Sales Order - PI-2019-3218.pdf\n",
      "F:\\Chandu pendrive\\Chandu redmi 6pro\\WhatsApp\\Media\\WhatsApp Documents ISENS _Sales Order - PI-2019-3239.pdf\n",
      "F:\\Chandu pendrive\\Chandu redmi 6pro\\WhatsApp\\Media\\WhatsApp Documents ISENS _Sales Order - PI-2019-3293.pdf\n",
      "F:\\Chandu pendrive\\Chandu redmi 6pro\\WhatsApp\\Media\\WhatsApp Documents ISENS _Sales Order - PI-2019-380_Ruhika.pdf\n",
      "F:\\Chandu pendrive\\Chandu redmi 6pro\\WhatsApp\\Media\\WhatsApp Documents ISENS _Sales Order - PI-2019-382_Raksha.pdf\n",
      "F:\\Chandu pendrive\\Chandu redmi 6pro\\WhatsApp\\Media\\WhatsApp Documents ISENS _Sales Order - PI-2019-394_Sri VkM.pdf\n",
      "F:\\Chandu pendrive\\Chandu redmi 6pro\\WhatsApp\\Media\\WhatsApp Documents ISENS _Sales Order - PI-2019-395_LAlitha.pdf\n",
      "F:\\Chandu pendrive\\Chandu redmi 6pro\\WhatsApp\\Media\\WhatsApp Documents ISENS _Sales Order - PI-2019-407_Raksha.pdf\n",
      "F:\\Chandu pendrive\\Chandu redmi 6pro\\WhatsApp\\Media\\WhatsApp Documents ISENS _Sales Order - PI-2019-473.pdf\n",
      "F:\\Chandu pendrive\\Chandu redmi 6pro\\WhatsApp\\Media\\WhatsApp Documents ISENS _Sales Order - PI-2019-498.pdf\n",
      "F:\\Chandu pendrive\\Chandu redmi 6pro\\WhatsApp\\Media\\WhatsApp Documents ISENS _Sales Order - PI-2019-501.pdf\n",
      "F:\\Chandu pendrive\\Chandu redmi 6pro\\WhatsApp\\Media\\WhatsApp Documents ISENS _Sales Order - PI-2019-514.pdf\n",
      "F:\\Chandu pendrive\\Chandu redmi 6pro\\WhatsApp\\Media\\WhatsApp Documents ISENS _Sales Order - PI-2019-518.pdf\n",
      "F:\\Chandu pendrive\\Chandu redmi 6pro\\WhatsApp\\Media\\WhatsApp Documents ISENS _Sales Order - PI-2019-623_Ruhika.pdf\n",
      "F:\\Chandu pendrive\\Chandu redmi 6pro\\WhatsApp\\Media\\WhatsApp Documents ISENS _Sales Order - PI-2019-626_Lalitha.pdf\n",
      "F:\\Chandu pendrive\\Chandu redmi 6pro\\WhatsApp\\Media\\WhatsApp Documents ISENS _Sales Order - PI-2019-641_Royal Pharma.pdf\n",
      "F:\\Chandu pendrive\\Chandu redmi 6pro\\WhatsApp\\Media\\WhatsApp Documents ISENS _Sales Order - PI-2019-88.pdf\n",
      "F:\\Chandu pendrive\\Chandu redmi 6pro\\WhatsApp\\Media\\WhatsApp Documents ISENS _Sales Order - PI-2020-1028.pdf\n",
      "F:\\Chandu pendrive\\Chandu redmi 6pro\\WhatsApp\\Media\\WhatsApp Documents ISENS _Sales Order - PI-2020-1461.pdf\n",
      "F:\\Chandu pendrive\\Chandu redmi 6pro\\WhatsApp\\Media\\WhatsApp Documents ISENS _Sales Order - PI-2020-1589.pdf\n",
      "F:\\Chandu pendrive\\Chandu redmi 6pro\\WhatsApp\\Media\\WhatsApp Documents ISENS _Sales Order - PI-2020-1661.pdf\n",
      "F:\\Chandu pendrive\\Chandu redmi 6pro\\WhatsApp\\Media\\WhatsApp Documents ISENS _Sales Order - PI-2020-1701.pdf\n",
      "F:\\Chandu pendrive\\Chandu redmi 6pro\\WhatsApp\\Media\\WhatsApp Documents ISENS _Sales Order - PI-2020-1703.pdf\n",
      "F:\\Chandu pendrive\\Chandu redmi 6pro\\WhatsApp\\Media\\WhatsApp Documents ISENS _Sales Order - PI-2020-1744.pdf\n",
      "F:\\Chandu pendrive\\Chandu redmi 6pro\\WhatsApp\\Media\\WhatsApp Documents ISENS _Sales Order - PI-2020-2012.pdf\n",
      "F:\\Chandu pendrive\\Chandu redmi 6pro\\WhatsApp\\Media\\WhatsApp Documents ISENS _Sales Order - PI-2020-2082.pdf\n",
      "F:\\Chandu pendrive\\Chandu redmi 6pro\\WhatsApp\\Media\\WhatsApp Documents ISENS _Sales Order - PI-2020-2618.pdf\n",
      "F:\\Chandu pendrive\\Chandu redmi 6pro\\WhatsApp\\Media\\WhatsApp Documents ISENS _Sales Order - PI-2020-2656.pdf\n",
      "F:\\Chandu pendrive\\Chandu redmi 6pro\\WhatsApp\\Media\\WhatsApp Documents ISENS _Sales Order - PI-2020-971.pdf\n",
      "F:\\Chandu pendrive\\Chandu redmi 6pro\\WhatsApp\\Media\\WhatsApp Documents ISENS _Sales Order - PI-2020-976.pdf\n",
      "F:\\Chandu pendrive\\Chandu redmi 6pro\\WhatsApp\\Media\\WhatsApp Documents ISENS19-20_Sales Order - PI-2018-26_Raksha.pdf\n",
      "F:\\Chandu pendrive\\Chandu redmi 6pro\\WhatsApp\\Media\\WhatsApp Documents Lalitha Enterprises PI 26-07-2019.pdf\n",
      "F:\\Chandu pendrive\\Chandu redmi 6pro\\WhatsApp\\Media\\WhatsApp Documents Lalitha Enterprises-1.pdf\n",
      "F:\\Chandu pendrive\\Chandu redmi 6pro\\WhatsApp\\Media\\WhatsApp Documents Lalitha Enterprises-2.pdf\n",
      "F:\\Chandu pendrive\\Chandu redmi 6pro\\WhatsApp\\Media\\WhatsApp Documents Lalitha Enterprises.pdf\n",
      "F:\\Chandu pendrive\\Chandu redmi 6pro\\WhatsApp\\Media\\WhatsApp Documents List of Holiday 2020_ISENS India.pdf\n",
      "F:\\Chandu pendrive\\Chandu redmi 6pro\\WhatsApp\\Media\\WhatsApp Documents manipal hospital-1.pdf\n",
      "F:\\Chandu pendrive\\Chandu redmi 6pro\\WhatsApp\\Media\\WhatsApp Documents Manipal Hospital-2.pdf\n",
      "F:\\Chandu pendrive\\Chandu redmi 6pro\\WhatsApp\\Media\\WhatsApp Documents Manipal hospital-3.pdf\n",
      "F:\\Chandu pendrive\\Chandu redmi 6pro\\WhatsApp\\Media\\WhatsApp Documents Manipal Hospital.pdf\n",
      "F:\\Chandu pendrive\\Chandu redmi 6pro\\WhatsApp\\Media\\WhatsApp Documents MHA Order Dt. 1.5.2020 to extend Lockdown period for 2 weeks w.e.f. 4.5.....pdf\n",
      "F:\\Chandu pendrive\\Chandu redmi 6pro\\WhatsApp\\Media\\WhatsApp Documents New Doc 2019-05-29 16.49.02.pdf\n",
      "F:\\Chandu pendrive\\Chandu redmi 6pro\\WhatsApp\\Media\\WhatsApp Documents New Doc 2019-09-11 06.47.48_4.pdf\n",
      "F:\\Chandu pendrive\\Chandu redmi 6pro\\WhatsApp\\Media\\WhatsApp Documents New Doc 2019-09-11 06.47.48_9.pdf\n",
      "F:\\Chandu pendrive\\Chandu redmi 6pro\\WhatsApp\\Media\\WhatsApp Documents PDF Gallery_20210419_175757.pdf\n",
      "F:\\Chandu pendrive\\Chandu redmi 6pro\\WhatsApp\\Media\\WhatsApp Documents pdf.2.pdf\n",
      "F:\\Chandu pendrive\\Chandu redmi 6pro\\WhatsApp\\Media\\WhatsApp Documents PDF.pdf\n",
      "F:\\Chandu pendrive\\Chandu redmi 6pro\\WhatsApp\\Media\\WhatsApp Documents PI-2018-2316_SG Enterprises.pdf\n",
      "F:\\Chandu pendrive\\Chandu redmi 6pro\\WhatsApp\\Media\\WhatsApp Documents PI-2018-2343_Lalitha Enterprises.pdf\n",
      "F:\\Chandu pendrive\\Chandu redmi 6pro\\WhatsApp\\Media\\WhatsApp Documents PI-2018-2352_Royal Pharma.pdf\n",
      "F:\\Chandu pendrive\\Chandu redmi 6pro\\WhatsApp\\Media\\WhatsApp Documents PI-2018-2360_Ruhika R8.pdf\n",
      "F:\\Chandu pendrive\\Chandu redmi 6pro\\WhatsApp\\Media\\WhatsApp Documents RAKSHA PHARMA PI 27-07-2019.pdf\n",
      "F:\\Chandu pendrive\\Chandu redmi 6pro\\WhatsApp\\Media\\WhatsApp Documents Raksha Pharma PI 28-06-2019.pdf\n",
      "F:\\Chandu pendrive\\Chandu redmi 6pro\\WhatsApp\\Media\\WhatsApp Documents RAKSHA PHARMA-1.pdf\n",
      "F:\\Chandu pendrive\\Chandu redmi 6pro\\WhatsApp\\Media\\WhatsApp Documents Raksha Pharma-2.pdf\n",
      "F:\\Chandu pendrive\\Chandu redmi 6pro\\WhatsApp\\Media\\WhatsApp Documents Raksha Pharma-3.pdf\n",
      "F:\\Chandu pendrive\\Chandu redmi 6pro\\WhatsApp\\Media\\WhatsApp Documents RAKSHA PHARMA.pdf\n",
      "F:\\Chandu pendrive\\Chandu redmi 6pro\\WhatsApp\\Media\\WhatsApp Documents Royal Pharma.pdf\n",
      "F:\\Chandu pendrive\\Chandu redmi 6pro\\WhatsApp\\Media\\WhatsApp Documents RP03- Guntur Kidney Hospital.pdf\n",
      "F:\\Chandu pendrive\\Chandu redmi 6pro\\WhatsApp\\Media\\WhatsApp Documents Ruhika Enterprises PI 16-07-2019.pdf\n",
      "F:\\Chandu pendrive\\Chandu redmi 6pro\\WhatsApp\\Media\\WhatsApp Documents Ruhika Enterprises PI 25-07-2019.pdf\n",
      "F:\\Chandu pendrive\\Chandu redmi 6pro\\WhatsApp\\Media\\WhatsApp Documents Ruhika Enterprises-1.pdf\n",
      "F:\\Chandu pendrive\\Chandu redmi 6pro\\WhatsApp\\Media\\WhatsApp Documents Ruhika Enterprises.pdf\n",
      "F:\\Chandu pendrive\\Chandu redmi 6pro\\WhatsApp\\Media\\WhatsApp Documents ruhika.pdf\n",
      "F:\\Chandu pendrive\\Chandu redmi 6pro\\WhatsApp\\Media\\WhatsApp Documents S.G enterprise.pdf\n",
      "F:\\Chandu pendrive\\Chandu redmi 6pro\\WhatsApp\\Media\\WhatsApp Documents Sales Order - PI-2018-2389_Raksha Pharma.pdf\n",
      "F:\\Chandu pendrive\\Chandu redmi 6pro\\WhatsApp\\Media\\WhatsApp Documents Sales Order - PI-2018-2418_Sirisha.pdf\n",
      "F:\\Chandu pendrive\\Chandu redmi 6pro\\WhatsApp\\Media\\WhatsApp Documents Sales Order - PI-2020-720_Lalitha_R8.pdf\n",
      "F:\\Chandu pendrive\\Chandu redmi 6pro\\WhatsApp\\Media\\WhatsApp Documents Sales Order - PI-2020-744_Raksha_R8.pdf\n",
      "F:\\Chandu pendrive\\Chandu redmi 6pro\\WhatsApp\\Media\\WhatsApp Documents Sales Order - PI-2020-840_Raksha_R8.pdf\n",
      "F:\\Chandu pendrive\\Chandu redmi 6pro\\WhatsApp\\Media\\WhatsApp Documents Sales Order - PI-2020-932_Lalitha_R8.pdf\n",
      "F:\\Chandu pendrive\\Chandu redmi 6pro\\WhatsApp\\Media\\WhatsApp Documents SKP  (7).pdf\n",
      "F:\\Chandu pendrive\\Chandu redmi 6pro\\WhatsApp\\Media\\WhatsApp Documents State_Nodal_Officers_DS_Guidelines (1).pdf\n",
      "F:\\Chandu pendrive\\Chandu redmi 6pro\\WhatsApp\\Media\\WhatsApp Documents SVM0447 RUKHIA.pdf\n",
      "F:\\Chandu pendrive\\Chandu redmi 6pro\\WhatsApp\\Media\\WhatsApp Documents SVM0448 RAKSHA.pdf\n",
      "F:\\Chandu pendrive\\Chandu redmi 6pro\\WhatsApp\\Media\\WhatsApp Documents SVM0455 S G.pdf\n",
      "F:\\Chandu pendrive\\Chandu redmi 6pro\\WhatsApp\\Media\\WhatsApp Documents\\Sent DOC-20190530-WA0000.pdf\n",
      "F:\\Chandu pendrive\\Chandu redmi 6pro\\WhatsApp\\Media\\WhatsApp Documents\\Sent DOC-20190725-WA0001.pdf\n",
      "F:\\Chandu pendrive\\Chandu redmi 6pro\\WhatsApp\\Media\\WhatsApp Documents\\Sent DOC-20190731-WA0003.pdf\n",
      "F:\\Chandu pendrive\\Chandu redmi 6pro\\WhatsApp\\Media\\WhatsApp Documents\\Sent DOC-20190910-WA0001.pdf\n",
      "F:\\Chandu pendrive\\Chandu redmi 6pro\\WhatsApp\\Media\\WhatsApp Documents\\Sent DOC-20190910-WA0002.pdf\n",
      "F:\\Chandu pendrive\\Chandu redmi 6pro\\WhatsApp\\Media\\WhatsApp Documents\\Sent DOC-20190910-WA0003.pdf\n",
      "F:\\Chandu pendrive\\Chandu redmi 6pro\\WhatsApp\\Media\\WhatsApp Documents\\Sent DOC-20190910-WA0004.pdf\n",
      "F:\\Chandu pendrive\\Chandu redmi 6pro\\WhatsApp\\Media\\WhatsApp Documents\\Sent DOC-20190910-WA0005.pdf\n",
      "F:\\Chandu pendrive\\Chandu redmi 6pro\\WhatsApp\\Media\\WhatsApp Documents\\Sent DOC-20190919-WA0001.pdf\n",
      "F:\\Chandu pendrive\\Chandu redmi 6pro\\WhatsApp\\Media\\WhatsApp Documents\\Sent DOC-20190930-WA0001.pdf\n",
      "F:\\Chandu pendrive\\Dec\\Dec 73415450-20181217.pdf\n",
      "F:\\Chandu pendrive\\December udaya Hosp.pdf\n",
      "F:\\Chandu pendrive\\desk' 06 Costal Hospital guntur.pdf\n",
      "F:\\Chandu pendrive\\desk' 10- Guntur Kidney Hospital.pdf\n",
      "F:\\Chandu pendrive\\desk' Confirmation Letter towards completion of Probation Period-Chandrasekhar A_SE_Vijaywada.pdf\n",
      "F:\\Chandu pendrive\\desk' GLUCOMETERS P.O.pdf\n",
      "F:\\Chandu pendrive\\desk' iSENS0060.pdf\n",
      "F:\\Chandu pendrive\\desk'\\2017\\Distributors\\Lalitha\\Lalitha\\Dec 21 Anu Hospital 01 copy.pdf\n",
      "F:\\Chandu pendrive\\desk'\\2017\\Distributors\\Lalitha\\Lalitha\\Dec 21 kamineni.pdf\n",
      "F:\\Chandu pendrive\\desk'\\2017\\Distributors\\Lalitha\\Lalitha\\Dec 21 Lalitha Enterprises.pdf\n",
      "F:\\Chandu pendrive\\desk'\\2017\\Distributors\\Lalitha\\Lalitha\\Dec 21 SentiniHospital copy.pdf\n",
      "F:\\Chandu pendrive\\desk'\\2017\\Distributors\\Lalitha\\Lalitha\\Hospitals po Santhi Hospital P.O (1).pdf\n",
      "F:\\Chandu pendrive\\desk'\\2017\\Distributors\\Lalitha\\Lalitha\\Hospitals po Santhi Hospital P.O.pdf\n",
      "F:\\Chandu pendrive\\desk'\\2017\\Distributors\\Raksha Pharma\\Oct 24 397602 20B.pdf\n",
      "F:\\Chandu pendrive\\desk'\\2017\\Distributors\\Raksha Pharma\\Oct 24 397602 21B.pdf\n",
      "F:\\Chandu pendrive\\desk'\\2017\\Distributors\\Ruhika\\Ruhika Health Hospital.P.O.pdf\n",
      "F:\\Chandu pendrive\\desk'\\2017\\Distributors\\Ruhika\\Ruhika\\Aug-17 AndhraHosp-SupplyCopy-July-17.pdf\n",
      "F:\\Chandu pendrive\\desk'\\2017\\Distributors\\Ruhika\\Ruhika\\Aug-17 AndhraHospital.P.O-Aug-17.pdf\n",
      "F:\\Chandu pendrive\\desk'\\2017\\Distributors\\Ruhika\\Ruhika\\Aug-17 Health Hospital.P.O (1).pdf\n",
      "F:\\Chandu pendrive\\desk'\\2017\\Distributors\\Ruhika\\Ruhika\\Aug-17 HeartBrain-Aug-17.pdf\n",
      "F:\\Chandu pendrive\\desk'\\2017\\Distributors\\Ruhika\\Ruhika\\Aug-17 NRI-Supply  Copy.SriKalyani-June-17.pdf\n",
      "F:\\Chandu pendrive\\desk'\\2017\\Distributors\\Ruhika\\Ruhika\\Aug-17 NRI-SupplyCopy-Ruhika-June-17.pdf\n",
      "F:\\Chandu pendrive\\desk'\\2017\\Distributors\\Ruhika\\Ruhika\\Aug-17 NRI.P.O-Aug-17.pdf\n",
      "F:\\Chandu pendrive\\desk'\\2018 List of Holidays for 2018.pdf\n",
      "F:\\Chandu pendrive\\desk'\\2018\\Lalitha enterprises\\Jan 25 Jan Kamineni.pdf\n",
      "F:\\Chandu pendrive\\desk'\\2018\\Raksha\\Mar 23 New Doc 2018-04-10 (1).pdf\n",
      "F:\\Chandu pendrive\\desk'\\2018\\Ruhika\\April NRI-P.O.pdf\n",
      "F:\\Chandu pendrive\\desk'\\2018\\Ruhika\\Jan 18\\Jan 22 Andhra Hospital Heart & Brain.pdf\n",
      "F:\\Chandu pendrive\\desk'\\2020\\Distrbutors\\2020 March\\Ruhika Supply Copies.pdf\n",
      "F:\\Chandu pendrive\\desk'\\2020\\Distrbutors\\Kalayani Order.pdf\n",
      "F:\\Chandu pendrive\\desk'\\2020\\Distrbutors\\Kalayani\\Kalayani GST No. Kalayani 1.pdf\n",
      "F:\\Chandu pendrive\\desk'\\2020\\Distrbutors\\Kalayani\\Kalayani SKP  5.pdf\n",
      "F:\\Chandu pendrive\\desk'\\Formats Employee Manual & Agreement-V05.pdf\n",
      "F:\\Chandu pendrive\\desk'\\i List of Holidays for 2018.pdf\n",
      "F:\\Chandu pendrive\\desk'\\New folder GMH meter placement Chandrashekar.pdf\n",
      "F:\\Chandu pendrive\\desk'\\New folder NRI and Andhra hospital meter placement details.pdf\n",
      "F:\\Chandu pendrive\\desk'\\New folder\\New folder nov 30 GMH meter placement Chandrashekar.pdf\n",
      "F:\\Chandu pendrive\\desk'\\New folder\\New folder nov 30 NRI and Andhra hospital meter placement details.pdf\n",
      "F:\\Chandu pendrive\\desk'\\New folder (2) LALITHA C  FORM37409311502_29122018114113.pdf\n",
      "F:\\Chandu pendrive\\desk'\\New folder (2) MobileBill_1343319751_379003568_9989855232.pdf\n",
      "F:\\Chandu pendrive\\desk'\\New folder (2) Price List 2017_01 August_Revise.pdf\n",
      "F:\\Chandu pendrive\\desk'\\New folder (4) IFCC Manufacturer Certificate(2018).pdf\n",
      "F:\\Chandu pendrive\\desk'\\New folder (4) ISO 13485 Q1N 16 12 90700 016 till 2020.pdf\n",
      "F:\\Chandu pendrive\\desk'\\New folder (4) ISO 15197 2013 qualification certificate NC1P.pdf\n",
      "F:\\Chandu pendrive\\desk'\\New folder (4) NC1P FDA Certificate.pdf\n",
      "F:\\Chandu pendrive\\desk'\\New folder (4) NGSP Manufacturer Certificate(2018).pdf\n",
      "F:\\Chandu pendrive\\desk'\\New folder (4) NoCoding 1 Plus Leaflet.pdf\n",
      "F:\\Chandu pendrive\\desk'\\New Meters 2019 Meter Plasment detals 2019.pdf\n",
      "F:\\Chandu pendrive\\desk'\\Nove 27 Copy of R8S3Meter installation details 2017.pdf\n",
      "F:\\Chandu pendrive\\desk'\\Nove 27 Mamatha Hospital1.pdf\n",
      "F:\\Chandu pendrive\\desk'\\Nove 27 Puvada.pdf\n",
      "F:\\Chandu pendrive\\desk'\\Nove 27 Srikarthik.pdf\n",
      "F:\\Chandu pendrive\\desk'\\Nove 27 Vedanta copy.pdf\n",
      "F:\\Chandu pendrive\\desk'\\Nove 27\\New folder AndhraHospital Vijayawada.pdf\n",
      "F:\\Chandu pendrive\\desk'\\Nove 27\\New folder MobileBill_1343319751_687253610_9989855232.pdf\n",
      "F:\\Chandu pendrive\\desk'\\Quotations GST Provisional Certificate .pdf\n",
      "F:\\Chandu pendrive\\desk'\\Travel Expenses form_AM_KAM_SE_CHANDU 73415450-20190217.pdf\n",
      "F:\\Chandu pendrive\\desk'\\Wall papers Corporate Brochure.pdf\n",
      "F:\\Chandu pendrive\\desk'\\Wall papers GMP_Songdo.pdf\n",
      "F:\\Chandu pendrive\\desk'\\Wall papers ISO 13485 Q1N 16 12 90700 016.pdf\n",
      "F:\\Chandu pendrive\\desk'\\Wall papers NC1P FDA.pdf\n",
      "F:\\Chandu pendrive\\Desktop clear 23-11-2020 209041622175_461000012329_20201114.pdf\n",
      "F:\\Chandu pendrive\\Desktop clear 23-11-2020 4500519167.pdf\n",
      "F:\\Chandu pendrive\\Desktop clear 23-11-2020 Narasapuram.pdf\n",
      "F:\\Chandu pendrive\\Desktop clear 23-11-2020 PO-4500523213.pdf\n",
      "F:\\Chandu pendrive\\Desktop clear 23-11-2020 VIRRD Hosp PO.pdf\n",
      "F:\\Chandu pendrive\\Desktop clear 23-11-2020\\4555 COSTAL 28 OCA.pdf\n",
      "F:\\Chandu pendrive\\Desktop clear 23-11-2020\\4555 Guntur Kidny 26.pdf\n",
      "F:\\Chandu pendrive\\Desktop clear 23-11-2020\\Health  Cards IL17935198300_Chandrasekhar Angani.pdf\n",
      "F:\\Chandu pendrive\\Desktop clear 23-11-2020\\Health  Cards IL17935198301_A Karuna.pdf\n",
      "F:\\Chandu pendrive\\Desktop clear 23-11-2020\\Health  Cards IL17935198305_A Nishika.pdf\n",
      "F:\\Chandu pendrive\\Desktop clear 23-11-2020\\Meter Placment details  2020 Meter Placment details  2020.pdf\n",
      "F:\\Chandu pendrive\\Desktop clear 23-11-2020\\Meter Placment details  2020 Meter Placment details.pdf\n",
      "F:\\Chandu pendrive\\Desktop clear 23-11-2020\\Oct 2020\\Kalayani ac5859a0_f31e_45f9_86e3_669d7f645a69.pdf\n",
      "F:\\Chandu pendrive\\Desktop clear 23-11-2020\\QC New Doc 2019-08-10 16.17.07.pdf\n",
      "F:\\Chandu pendrive\\Desktop clear 23-11-2020\\QC QC 30.pdf\n",
      "F:\\Chandu pendrive\\Desktop clear 23-11-2020\\QC QC Repots Sep.pdf\n",
      "F:\\Chandu pendrive\\Desktop clear 23-11-2020\\QC QC Repots.pdf\n",
      "F:\\Chandu pendrive\\Desktop clear 23-11-2020\\QC Varma,Janaki QC.pdf\n",
      "F:\\Chandu pendrive\\Desktop clear 23-11-2020\\QC\\20\\QC 20 QC 16.pdf\n",
      "F:\\Chandu pendrive\\Hari 11 2-1.pdf\n",
      "F:\\Chandu pendrive\\Hari 11 3-1.pdf\n",
      "F:\\Chandu pendrive\\Hari 11 4-1.pdf\n",
      "F:\\Chandu pendrive\\July 11 1565074550971_73415450-20190717.pdf\n",
      "F:\\Chandu pendrive\\July 11 ola bill.pdf\n",
      "F:\\Chandu pendrive\\June 1 73415450-20190617.pdf\n",
      "F:\\Chandu pendrive\\March 73415450-20190217.pdf\n",
      "F:\\Chandu pendrive\\March\\March 11 73415450-20190317.pdf\n",
      "F:\\Chandu pendrive\\March & June 2020 73415450-20200317.pdf\n",
      "F:\\Chandu pendrive\\March & June 2020 73415450-20200617.pdf\n",
      "F:\\Chandu pendrive\\May-19 73415450-20190517.pdf\n",
      "F:\\Chandu pendrive\\October SanDiskMemoryZone_QuickStartGuide.pdf\n",
      "F:\\Chandu pendrive\\October\\My 73415450-20181017.pdf\n",
      "F:\\Chandu pendrive\\PUAM\\DCIM\\Camera ISENS _Sales Order - PI-2019-1584_Raksh_R8.pdf\n",
      "F:\\Chandu pendrive\\PUAM\\DCIM\\Camera Screenshot 2019-09-10 13.08.10_1.pdf\n",
      "F:\\Chandu pendrive\\PUAM\\Download 10028648532804001.pdf\n",
      "F:\\Chandu pendrive\\PUAM\\Download 2703518.pdf\n",
      "F:\\Chandu pendrive\\PUAM\\Download 44581948_1491930738863.pdf\n",
      "F:\\Chandu pendrive\\PUAM\\Download 44581948_1495000766350.pdf\n",
      "F:\\Chandu pendrive\\PUAM\\Download 44581948_1496464116597.pdf\n",
      "F:\\Chandu pendrive\\PUAM\\Download AudioBlocks - Royalty Free License Agreement  (2016-07-26).pdf\n",
      "F:\\Chandu pendrive\\PUAM\\Download bmb_faq.pdf\n",
      "F:\\Chandu pendrive\\PUAM\\Download COLGATE_APR_2016_PAYSLIP_34006207.pdf\n",
      "F:\\Chandu pendrive\\PUAM\\Download COLGATE_FEB_2017_PAYSLIP_34006207.pdf\n",
      "F:\\Chandu pendrive\\PUAM\\Download COLGATE_FORM_16_34006207.pdf\n",
      "F:\\Chandu pendrive\\PUAM\\Download CPIL_APR_2017_PAYSLIP_34006207.pdf\n",
      "F:\\Chandu pendrive\\PUAM\\Download CPIL_FORM_16_34006207.pdf\n",
      "F:\\Chandu pendrive\\PUAM\\Download CPIL_JAN_2017_PAYSLIP_34006207.pdf\n",
      "F:\\Chandu pendrive\\PUAM\\Download CPIL_MAR_2017_PAYSLIP_34006207.pdf\n",
      "F:\\Chandu pendrive\\PUAM\\Download CPIL_MAY_2017_PAYSLIP_34006207.pdf\n",
      "F:\\Chandu pendrive\\PUAM\\Download CPIL_TAX_FORECASTING_34006207.pdf\n",
      "F:\\Chandu pendrive\\PUAM\\Download epfo.pdf\n",
      "F:\\Chandu pendrive\\PUAM\\Download GST-Challan Receipt.pdf\n",
      "F:\\Chandu pendrive\\PUAM\\Download limitenhancementguide-new.pdf\n",
      "F:\\Chandu pendrive\\PUAM\\Download PUJA-AADHAAR.pdf\n",
      "F:\\Chandu pendrive\\PUAM\\Download RepShow.pdf\n",
      "F:\\Chandu pendrive\\PUAM\\Download SBI SO Systems officer exam 2015 solved question paper_(2).pdf\n",
      "F:\\Chandu pendrive\\PUAM\\Download send (1).pdf\n",
      "F:\\Chandu pendrive\\PUAM\\Media\\WhatsApp Documents 05-GunturKidney Hospital.pdf\n",
      "F:\\Chandu pendrive\\PUAM\\Media\\WhatsApp Documents 2017PocketCalender_mohanpublications.pdf.pdf\n",
      "F:\\Chandu pendrive\\PUAM\\Media\\WhatsApp Documents 2020-08-12-20-16-14-377_1597243574377_XXXPB6587X_Acknowledgement.pdf\n",
      "F:\\Chandu pendrive\\PUAM\\Media\\WhatsApp Documents 23 - Guntur Kidney Hospital.pdf\n",
      "F:\\Chandu pendrive\\PUAM\\Media\\WhatsApp Documents 27.11.2017 POC BHIWANDI order.pdf\n",
      "F:\\Chandu pendrive\\PUAM\\Media\\WhatsApp Documents 29th Aug. Webinar Invite - Dr. Saritha Suryadevara.pdf\n",
      "F:\\Chandu pendrive\\PUAM\\Media\\WhatsApp Documents 3.RCPA Format - Insulin Teams.pdf\n",
      "F:\\Chandu pendrive\\PUAM\\Media\\WhatsApp Documents 31.08.pdf\n",
      "F:\\Chandu pendrive\\PUAM\\Media\\WhatsApp Documents 36 MLA List.pdf\n",
      "F:\\Chandu pendrive\\PUAM\\Media\\WhatsApp Documents 44-Guntur Kidney Hospital.pdf\n",
      "F:\\Chandu pendrive\\PUAM\\Media\\WhatsApp Documents 5_6134357138673238125.pdf\n",
      "F:\\Chandu pendrive\\PUAM\\Media\\WhatsApp Documents 5_6147805158018384187.pdf\n",
      "F:\\Chandu pendrive\\PUAM\\Media\\WhatsApp Documents ASFPA8299Q-2019 (1).pdf\n",
      "F:\\Chandu pendrive\\PUAM\\Media\\WhatsApp Documents Brochure.pdf\n",
      "F:\\Chandu pendrive\\PUAM\\Media\\WhatsApp Documents Catalogue_2017.pdf\n",
      "F:\\Chandu pendrive\\PUAM\\Media\\WhatsApp Documents certificate.pdf\n",
      "F:\\Chandu pendrive\\PUAM\\Media\\WhatsApp Documents Chinna naati Gnapakalu.pdf\n",
      "F:\\Chandu pendrive\\PUAM\\Media\\WhatsApp Documents Detailed_Advertisement_04012017.pdf\n",
      "F:\\Chandu pendrive\\PUAM\\Media\\WhatsApp Documents DOC-20161214-WA0005.pdf\n",
      "F:\\Chandu pendrive\\PUAM\\Media\\WhatsApp Documents DOC-20181007-WA0004.pdf\n",
      "F:\\Chandu pendrive\\PUAM\\Media\\WhatsApp Documents Doctors registration numbers.pdf\n",
      "F:\\Chandu pendrive\\PUAM\\Media\\WhatsApp Documents Final Pamplet.pmd.pdf\n",
      "F:\\Chandu pendrive\\PUAM\\Media\\WhatsApp Documents Gmail - Booking Confirmation on IRCTC, Train_ 12759, 05-Oct-2018, SL, MAS - HYB.pdf\n",
      "F:\\Chandu pendrive\\PUAM\\Media\\WhatsApp Documents Gmail - Booking Confirmation on IRCTC, Train_ 17603, 11-Jun-2019, 3A, KCG - MAO.pdf\n",
      "F:\\Chandu pendrive\\PUAM\\Media\\WhatsApp Documents Gmail - Your Friday ride to Park Town.pdf\n",
      "F:\\Chandu pendrive\\PUAM\\Media\\WhatsApp Documents IMA Address.pdf\n",
      "F:\\Chandu pendrive\\PUAM\\Media\\WhatsApp Documents img193.pdf\n",
      "F:\\Chandu pendrive\\PUAM\\Media\\WhatsApp Documents imgtopdf_generated_2203181905013.pdf\n",
      "F:\\Chandu pendrive\\PUAM\\Media\\WhatsApp Documents Invite.pdf\n",
      "F:\\Chandu pendrive\\PUAM\\Media\\WhatsApp Documents ISENS _Sales - I-M-000029.pdf\n",
      "F:\\Chandu pendrive\\PUAM\\Media\\WhatsApp Documents ISENS _Sales Order - PI-2019-2729_Raksa_R8.pdf\n",
      "F:\\Chandu pendrive\\PUAM\\Media\\WhatsApp Documents ISENS _Sales Order - PI-2020-971.pdf\n",
      "F:\\Chandu pendrive\\PUAM\\Media\\WhatsApp Documents iSENS0060.pdf\n",
      "F:\\Chandu pendrive\\PUAM\\Media\\WhatsApp Documents Job  International Sales Manager.pdf\n",
      "F:\\Chandu pendrive\\PUAM\\Media\\WhatsApp Documents list of MRP liquor bars open.pdf\n",
      "F:\\Chandu pendrive\\PUAM\\Media\\WhatsApp Documents Lockdown withdrawn orders_VMC area.pdf\n",
      "F:\\Chandu pendrive\\PUAM\\Media\\WhatsApp Documents LordKrishnasMarvelousLeelas.compressed.pdf\n",
      "F:\\Chandu pendrive\\PUAM\\Media\\WhatsApp Documents New Doc 2017-04-05.pdf\n",
      "F:\\Chandu pendrive\\PUAM\\Media\\WhatsApp Documents New Doc 2018-10-07_1.pdf\n",
      "F:\\Chandu pendrive\\PUAM\\Media\\WhatsApp Documents New Doc_1-3.pdf\n",
      "F:\\Chandu pendrive\\PUAM\\Media\\WhatsApp Documents pr200131-rybelsus-chmp-opinion.pdf\n",
      "F:\\Chandu pendrive\\PUAM\\Media\\WhatsApp Documents Promo Q4.pdf\n",
      "F:\\Chandu pendrive\\PUAM\\Media\\WhatsApp Documents Purushotham Price List..pdf\n",
      "F:\\Chandu pendrive\\PUAM\\Media\\WhatsApp Documents RAKSHA PHARMA.pdf\n",
      "F:\\Chandu pendrive\\PUAM\\Media\\WhatsApp Documents RAKSHA PHARMA.PDF-1.pdf\n",
      "F:\\Chandu pendrive\\PUAM\\Media\\WhatsApp Documents RAKSHA PHARMA.PDF.pdf\n",
      "F:\\Chandu pendrive\\PUAM\\Media\\WhatsApp Documents Raksha Pharma1.pdf\n",
      "F:\\Chandu pendrive\\PUAM\\Media\\WhatsApp Documents redBus_Ticket__TMAW90647936_.pdf\n",
      "F:\\Chandu pendrive\\PUAM\\Media\\WhatsApp Documents RegenOrthoSport.pdf\n",
      "F:\\Chandu pendrive\\PUAM\\Media\\WhatsApp Documents REPORT.pdf\n",
      "F:\\Chandu pendrive\\PUAM\\Media\\WhatsApp Documents Ryzodeg Invite .pdf\n",
      "F:\\Chandu pendrive\\PUAM\\Media\\WhatsApp Documents Sales Order - PI-2017-1518.pdf\n",
      "F:\\Chandu pendrive\\PUAM\\Media\\WhatsApp Documents Sales Order - PI-2017-1643.pdf\n",
      "F:\\Chandu pendrive\\PUAM\\Media\\WhatsApp Documents Sales Order - PI-2017-1780.pdf\n",
      "F:\\Chandu pendrive\\PUAM\\Media\\WhatsApp Documents Screenshot 2019-09-10 13.08.10_1.pdf\n",
      "F:\\Chandu pendrive\\PUAM\\Media\\WhatsApp Documents Special Pop use of insulins_Reg status.pdf\n",
      "F:\\Chandu pendrive\\PUAM\\Media\\WhatsApp Documents Stockist letter for Price Revision.pdf\n",
      "F:\\Chandu pendrive\\PUAM\\Media\\WhatsApp Documents sunil.pdf [SHARED].pdf\n",
      "F:\\Chandu pendrive\\PUAM\\Media\\WhatsApp Documents Webinar - V Meet @ADA2020 on 07th July 2020.pdf\n",
      "F:\\Chandu pendrive\\PUAM\\Media\\WhatsApp Documents\\Sent DOC-20170214-WA0004.pdf\n",
      "F:\\Chandu pendrive\\PUAM\\Media\\WhatsApp Documents\\Sent DOC-20170603-WA0002.pdf\n",
      "F:\\Chandu pendrive\\PUAM\\Media\\WhatsApp Documents\\Sent DOC-20171201-WA0002.pdf\n",
      "F:\\Chandu pendrive\\PUAM\\Media\\WhatsApp Documents\\Sent DOC-20180420-WA0005.pdf\n",
      "F:\\Chandu pendrive\\PUAM\\Media\\WhatsApp Documents\\Sent DOC-20180619-WA0002.pdf\n",
      "F:\\Chandu pendrive\\PUAM\\Media\\WhatsApp Documents\\Sent DOC-20190108-WA0014.pdf\n",
      "F:\\Chandu pendrive\\Purushotham 397602 20B.pdf\n",
      "F:\\Chandu pendrive\\Purushotham 397602 21B.pdf\n",
      "F:\\Chandu pendrive\\Purushotham 44-Guntur Kidney Hospital.pdf\n",
      "F:\\Chandu pendrive\\Purushotham Form 15G 103120000000007845.pdf\n",
      "F:\\Chandu pendrive\\Sep New 2019 73415450-20190917.pdf\n",
      "F:\\Chandu pendrive\\Septmber 73415450-20180917.pdf\n",
      "F:\\Chandu pendrive\\test\\Dec Exp 2019 Voda Bill 19.pdf\n",
      "F:\\Chandu pendrive\\test\\Jan Exp 2020 73415450-20200117.pdf\n",
      "F:\\Chandu pendrive\\test\\Jan Exp 2020\\Jan 31 73415450-20190117.pdf\n",
      "F:\\Chandu pendrive\\test\\July 2020 Exp 73415450-20200717.pdf\n",
      "F:\\Chandu pendrive\\test\\May 2020 Exp Chandu 73415450-20200517.pdf\n",
      "F:\\Chandu pendrive\\test\\Nov Exp 73415450-20191117.pdf\n",
      "F:\\Chandu pendrive\\test\\Oct 2019 New 73415450-20190917.pdf\n",
      "F:\\Chandu pendrive\\test\\Rakasha 123 01 Janaki Hospital Pharmacy Invoice.pdf\n",
      "F:\\Chandu pendrive\\test\\Rakasha 123 04 Narasapur christian hospital Invoice.pdf\n",
      "F:\\Chandu pendrive\\test\\Rakasha 123 05 Chaitra Pharmacy Invoice.pdf\n",
      "F:\\Chandu pendrive\\test\\Rakasha 123 06 Costal Hospital guntur.pdf\n",
      "F:\\Chandu pendrive\\test\\Rakasha 123 07 Siva Kidney care Hospitals Invoice.pdf\n",
      "F:\\Chandu pendrive\\test\\Rakasha 123 08 Uday Hospitals Invoice.pdf\n",
      "F:\\Chandu pendrive\\test\\Rakasha 123 09- Vedantha Hospital.pdf\n",
      "F:\\Chandu pendrive\\test\\Rakasha 123 10- Guntur Kidney Hospital.pdf\n",
      "F:\\Chandu pendrive\\test\\Rakasha 123 Gmail - redBus Ticket - TNDH10787220.pdf\n",
      "F:\\Chandu pendrive\\test\\Rakasha 123 LALITHA C  FORM37409311502_29122018114113.pdf\n"
     ]
    }
   ],
   "source": [
    "for path,folder,file in os.walk(os.getcwd()):\n",
    "    for i in file:\n",
    "        if i.split(\".\")[-1] == \"pdf\":\n",
    "            print(path,i)\n",
    "\n",
    "    "
   ]
  },
  {
   "cell_type": "code",
   "execution_count": 83,
   "id": "24a8aa55",
   "metadata": {},
   "outputs": [],
   "source": [
    "import shutil"
   ]
  },
  {
   "cell_type": "code",
   "execution_count": 92,
   "id": "c2e5ea31",
   "metadata": {},
   "outputs": [
    {
     "name": "stdout",
     "output_type": "stream",
     "text": [
      "enter ur extension :allpdfs\n",
      "data copided and moved successfully/\n"
     ]
    }
   ],
   "source": [
    "ext = input(\"enter ur folder name :\")\n",
    "for path,folder,file in os.walk(os.getcwd()):\n",
    "    for i in file:\n",
    "        os.makedirs(ext,exist_ok=True)\n",
    "        if i.split(\".\")[-1] == \"pdf\":\n",
    "            \n",
    "#             shutil.copy(os.path.join(path,i),os.path.join(path,i))\n",
    "            shutil.move(os.path.join(path,i),os.path.join(ext,i))\n",
    "            \n",
    "\n",
    "print(\"data copided and moved successfully/\")"
   ]
  },
  {
   "cell_type": "code",
   "execution_count": 94,
   "id": "0f4d5d11",
   "metadata": {},
   "outputs": [
    {
     "data": {
      "text/plain": [
       "'F:\\\\Chandu pendrive\\\\test\\\\Srinivas\\\\Sales Order Form Ruhika enterprises Nove.xlsx'"
      ]
     },
     "execution_count": 94,
     "metadata": {},
     "output_type": "execute_result"
    }
   ],
   "source": [
    "os.path.join(path,i)"
   ]
  },
  {
   "cell_type": "code",
   "execution_count": 99,
   "id": "89ddd69d",
   "metadata": {},
   "outputs": [
    {
     "data": {
      "text/plain": [
       "('F:\\\\Chandu pendrive\\\\test\\\\Srinivas\\\\Sales Order Form Ruhika enterprises Nove.xlsx',\n",
       " 'allpdfs\\\\Sales Order Form Ruhika enterprises Nove.xlsx')"
      ]
     },
     "execution_count": 99,
     "metadata": {},
     "output_type": "execute_result"
    }
   ],
   "source": [
    "os.path.join(path,i),os.path.join(ext,i)"
   ]
  },
  {
   "cell_type": "code",
   "execution_count": 100,
   "id": "dece1bfd",
   "metadata": {},
   "outputs": [
    {
     "data": {
      "text/plain": [
       "'F:\\\\Chandu pendrive\\\\test\\\\Srinivas'"
      ]
     },
     "execution_count": 100,
     "metadata": {},
     "output_type": "execute_result"
    }
   ],
   "source": [
    "path"
   ]
  },
  {
   "cell_type": "code",
   "execution_count": 101,
   "id": "fe6fb5eb",
   "metadata": {},
   "outputs": [
    {
     "data": {
      "text/plain": [
       "'F:\\\\Chandu pendrive'"
      ]
     },
     "execution_count": 101,
     "metadata": {},
     "output_type": "execute_result"
    }
   ],
   "source": [
    "pwd"
   ]
  },
  {
   "cell_type": "code",
   "execution_count": null,
   "id": "4f195ae3",
   "metadata": {},
   "outputs": [],
   "source": []
  }
 ],
 "metadata": {
  "kernelspec": {
   "display_name": "Python 3 (ipykernel)",
   "language": "python",
   "name": "python3"
  },
  "language_info": {
   "codemirror_mode": {
    "name": "ipython",
    "version": 3
   },
   "file_extension": ".py",
   "mimetype": "text/x-python",
   "name": "python",
   "nbconvert_exporter": "python",
   "pygments_lexer": "ipython3",
   "version": "3.10.4"
  }
 },
 "nbformat": 4,
 "nbformat_minor": 5
}
