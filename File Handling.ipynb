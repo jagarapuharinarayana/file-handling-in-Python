{
 "cells": [
  {
   "cell_type": "markdown",
   "id": "33a94473",
   "metadata": {},
   "source": [
    "# Files in python"
   ]
  },
  {
   "cell_type": "code",
   "execution_count": 1,
   "id": "8b932962",
   "metadata": {},
   "outputs": [
    {
     "data": {
      "text/plain": [
       "'E:\\\\'"
      ]
     },
     "execution_count": 1,
     "metadata": {},
     "output_type": "execute_result"
    }
   ],
   "source": [
    "pwd"
   ]
  },
  {
   "cell_type": "markdown",
   "id": "6153d2f9",
   "metadata": {},
   "source": [
    "# Change directory"
   ]
  },
  {
   "cell_type": "code",
   "execution_count": 5,
   "id": "25b00661",
   "metadata": {},
   "outputs": [],
   "source": [
    "import os\n",
    "os.chdir(\"F:\\kivy\")"
   ]
  },
  {
   "cell_type": "code",
   "execution_count": 6,
   "id": "ee451d98",
   "metadata": {},
   "outputs": [
    {
     "data": {
      "text/plain": [
       "'F:\\\\kivy'"
      ]
     },
     "execution_count": 6,
     "metadata": {},
     "output_type": "execute_result"
    }
   ],
   "source": [
    "pwd"
   ]
  },
  {
   "cell_type": "markdown",
   "id": "609047af",
   "metadata": {},
   "source": [
    "# wrire a file method 1"
   ]
  },
  {
   "cell_type": "code",
   "execution_count": 7,
   "id": "514e263e",
   "metadata": {},
   "outputs": [
    {
     "name": "stdout",
     "output_type": "stream",
     "text": [
      "Writing demo.py\n"
     ]
    }
   ],
   "source": [
    "%%writefile demo.py\n",
    "\n",
    "a = 10\n",
    "b = 20 \n",
    "c = a+b\n",
    "print(c)"
   ]
  },
  {
   "cell_type": "code",
   "execution_count": 8,
   "id": "a5a2a63e",
   "metadata": {},
   "outputs": [
    {
     "name": "stdout",
     "output_type": "stream",
     "text": [
      "Writing demo1.txt\n"
     ]
    }
   ],
   "source": [
    "%%writefile demo1.txt\n",
    "\n",
    "Please don't scroll past this. This Monday, we request you to sustain Wikipedia's independence. 98% of our readers don't donate; they simply keep reading. If you are an exceptional reader who has already donated, we sincerely thank you. If you donate just ₹ 25 today, Wikipedia could keep growing for years. We request you: please don’t scroll away. If Wikipedia has given you ₹ 25 worth of knowledge, kindly take a minute to donate. Show the world that access to reliable, neutral information matters to you. Thank you."
   ]
  },
  {
   "cell_type": "code",
   "execution_count": null,
   "id": "d18d1575",
   "metadata": {},
   "outputs": [],
   "source": [
    "open()"
   ]
  },
  {
   "cell_type": "code",
   "execution_count": 85,
   "id": "60a1d3e9",
   "metadata": {},
   "outputs": [],
   "source": [
    "with open(\"demo.txt\",\"w\") as f:\n",
    "    f.writelines(\"abcd how may i help you.\\nhello\")"
   ]
  },
  {
   "cell_type": "code",
   "execution_count": 29,
   "id": "67c82bbf",
   "metadata": {},
   "outputs": [],
   "source": [
    "data = b\"data science is used for solving usecases.\""
   ]
  },
  {
   "cell_type": "code",
   "execution_count": 35,
   "id": "0b2802f5",
   "metadata": {},
   "outputs": [],
   "source": [
    "os.remove(\"demo.py\")"
   ]
  },
  {
   "cell_type": "code",
   "execution_count": null,
   "id": "f092ff8d",
   "metadata": {},
   "outputs": [],
   "source": [
    "os.chdir()"
   ]
  },
  {
   "cell_type": "markdown",
   "id": "7991a997",
   "metadata": {},
   "source": [
    "# Find  files in a folder"
   ]
  },
  {
   "cell_type": "code",
   "execution_count": 38,
   "id": "fd4a9953",
   "metadata": {},
   "outputs": [],
   "source": [
    "os.chdir(\"F:\\kivy\")"
   ]
  },
  {
   "cell_type": "code",
   "execution_count": 40,
   "id": "4dadc5c8",
   "metadata": {},
   "outputs": [
    {
     "name": "stdout",
     "output_type": "stream",
     "text": [
      "demo.txt\n",
      "demo1.txt\n",
      "test_folder\n",
      "zip\n",
      "[FreeCourseSite.com] Udemy - Python Kivy The Full Guide\n"
     ]
    }
   ],
   "source": [
    "for i in os.listdir(\".\"): # text files\n",
    "    print(i )"
   ]
  },
  {
   "cell_type": "markdown",
   "id": "c2690f2c",
   "metadata": {},
   "source": [
    "# Find text 1 files in a folder"
   ]
  },
  {
   "cell_type": "code",
   "execution_count": 55,
   "id": "2cd38ae6",
   "metadata": {},
   "outputs": [
    {
     "name": "stdout",
     "output_type": "stream",
     "text": [
      "enter ur extension : txt\n",
      "demo.txt\n",
      "demo1.txt\n"
     ]
    }
   ],
   "source": [
    "ext = input(\"enter ur extension : \")\n",
    "for i in os.listdir(\".\"): # text files\n",
    "#     print(i.split(\".\"))\n",
    "    if i.split(\".\")[-1] == ext:\n",
    "        print(i)"
   ]
  },
  {
   "cell_type": "markdown",
   "id": "a396f5fd",
   "metadata": {},
   "source": [
    "# cerate a folder and push the ext into the folder"
   ]
  },
  {
   "cell_type": "code",
   "execution_count": 59,
   "id": "60b6091b",
   "metadata": {},
   "outputs": [
    {
     "name": "stdout",
     "output_type": "stream",
     "text": [
      "enter ur extension : py\n"
     ]
    }
   ],
   "source": [
    "import shutil # file handling \n",
    "ext = input(\"enter ur extension : \")\n",
    "for i in os.listdir(\".\"): # text files\n",
    "#     print(i.split(\".\"))\n",
    "    if i.split(\".\")[-1] == ext:\n",
    "        os.makedirs(ext,exist_ok=True)\n",
    "        shutil.move(i,os.path.join(ext,i))"
   ]
  },
  {
   "cell_type": "code",
   "execution_count": 56,
   "id": "05a9ecdc",
   "metadata": {},
   "outputs": [],
   "source": [
    "import shutil"
   ]
  },
  {
   "cell_type": "code",
   "execution_count": 57,
   "id": "12cfb4c8",
   "metadata": {},
   "outputs": [
    {
     "data": {
      "text/plain": [
       "'a\\\\b'"
      ]
     },
     "execution_count": 57,
     "metadata": {},
     "output_type": "execute_result"
    }
   ],
   "source": [
    "os.path.join(\"a\",\"b\")"
   ]
  },
  {
   "cell_type": "code",
   "execution_count": 62,
   "id": "472484a2",
   "metadata": {},
   "outputs": [
    {
     "name": "stdout",
     "output_type": "stream",
     "text": [
      "enter ur extension : txt\n"
     ]
    }
   ],
   "source": [
    "import shutil # remove ext files from a loc \n",
    "ext = input(\"enter ur extension : \")\n",
    "for i in os.listdir(\".\"): # text files\n",
    "#     print(i.split(\".\"))\n",
    "    if i.split(\".\")[-1] == ext:\n",
    "        shutil.rmtree(i)\n",
    "        "
   ]
  },
  {
   "cell_type": "code",
   "execution_count": 63,
   "id": "13268da7",
   "metadata": {},
   "outputs": [
    {
     "data": {
      "text/plain": [
       "'F:\\\\kivy'"
      ]
     },
     "execution_count": 63,
     "metadata": {},
     "output_type": "execute_result"
    }
   ],
   "source": [
    "pwd"
   ]
  },
  {
   "cell_type": "code",
   "execution_count": 65,
   "id": "c6cbd117",
   "metadata": {},
   "outputs": [],
   "source": [
    "os.chdir(\"E:\")"
   ]
  },
  {
   "cell_type": "code",
   "execution_count": 66,
   "id": "01e6a685",
   "metadata": {},
   "outputs": [
    {
     "data": {
      "text/plain": [
       "'E:\\\\'"
      ]
     },
     "execution_count": 66,
     "metadata": {},
     "output_type": "execute_result"
    }
   ],
   "source": [
    "pwd"
   ]
  },
  {
   "cell_type": "code",
   "execution_count": 69,
   "id": "948b8216",
   "metadata": {},
   "outputs": [
    {
     "name": "stderr",
     "output_type": "stream",
     "text": [
      "UsageError: %%writefile is a cell magic, but the cell body is empty.\n"
     ]
    }
   ],
   "source": [
    "%%writefile Hello.txt\n",
    "\n",
    "\n"
   ]
  },
  {
   "cell_type": "code",
   "execution_count": 70,
   "id": "0810711c",
   "metadata": {},
   "outputs": [
    {
     "data": {
      "text/plain": [
       "'E:\\\\'"
      ]
     },
     "execution_count": 70,
     "metadata": {},
     "output_type": "execute_result"
    }
   ],
   "source": [
    "pwd"
   ]
  },
  {
   "cell_type": "code",
   "execution_count": 80,
   "id": "17a9e1b5",
   "metadata": {},
   "outputs": [],
   "source": [
    "with open(\"abcd.txt\",\"w\") as f:\n",
    "    f.write(\" \")"
   ]
  },
  {
   "cell_type": "code",
   "execution_count": 76,
   "id": "ece53636",
   "metadata": {},
   "outputs": [],
   "source": [
    "f1 = open(\"hellos.txt\",\"w\") "
   ]
  },
  {
   "cell_type": "code",
   "execution_count": 78,
   "id": "f5b311f7",
   "metadata": {},
   "outputs": [],
   "source": [
    "f1.close()"
   ]
  },
  {
   "cell_type": "code",
   "execution_count": 79,
   "id": "3064c1fa",
   "metadata": {},
   "outputs": [
    {
     "data": {
      "text/plain": [
       "<_io.TextIOWrapper name='hellos.txt' mode='w' encoding='cp1252'>"
      ]
     },
     "execution_count": 79,
     "metadata": {},
     "output_type": "execute_result"
    }
   ],
   "source": [
    "f1"
   ]
  },
  {
   "cell_type": "code",
   "execution_count": 91,
   "id": "31d7a0fc",
   "metadata": {},
   "outputs": [
    {
     "data": {
      "text/plain": [
       "<_io.TextIOWrapper name='demo.txt' mode='w' encoding='cp1252'>"
      ]
     },
     "execution_count": 91,
     "metadata": {},
     "output_type": "execute_result"
    }
   ],
   "source": [
    "f"
   ]
  },
  {
   "cell_type": "code",
   "execution_count": 93,
   "id": "23aa7ca4",
   "metadata": {},
   "outputs": [
    {
     "name": "stdout",
     "output_type": "stream",
     "text": [
      "abcd.txt\n",
      "demo.txt\n",
      "hello.txt\n",
      "hellos.txt\n"
     ]
    }
   ],
   "source": [
    "for i in os.listdir(\".\"): # text files\n",
    "#     print(i.split(\".\"))\n",
    "    if i.split(\".\")[-1] == \"txt\":\n",
    "        print(i)"
   ]
  },
  {
   "cell_type": "code",
   "execution_count": 94,
   "id": "863d22a5",
   "metadata": {},
   "outputs": [],
   "source": [
    "data = \"data science\"\n",
    "for i in range(1,6):\n",
    "    f = open(f\"file_{i}.txt\" ,\"w\") \n",
    "    f.writelines(data)\n",
    "    f.close()"
   ]
  },
  {
   "cell_type": "code",
   "execution_count": 95,
   "id": "4680af83",
   "metadata": {},
   "outputs": [],
   "source": [
    "os.renames(\"file_1.txt\",\"file_100.txt\")"
   ]
  },
  {
   "cell_type": "code",
   "execution_count": 99,
   "id": "3650579f",
   "metadata": {},
   "outputs": [
    {
     "name": "stdout",
     "output_type": "stream",
     "text": [
      "files names updated.\n"
     ]
    }
   ],
   "source": [
    "a = 0\n",
    "for i in os.listdir(\".\"):\n",
    "#     print(i)\n",
    "    if i.split(\".\")[-1] == \"txt\":\n",
    "        a+=1\n",
    "        os.rename(i,f\"{a}.txt\")\n",
    "print(\"files names updated.\")"
   ]
  },
  {
   "cell_type": "code",
   "execution_count": 100,
   "id": "42ce84b2",
   "metadata": {},
   "outputs": [
    {
     "data": {
      "text/plain": [
       "'E:\\\\'"
      ]
     },
     "execution_count": 100,
     "metadata": {},
     "output_type": "execute_result"
    }
   ],
   "source": [
    "pwd"
   ]
  },
  {
   "cell_type": "code",
   "execution_count": null,
   "id": "ad4ab3ae",
   "metadata": {},
   "outputs": [],
   "source": []
  }
 ],
 "metadata": {
  "kernelspec": {
   "display_name": "Python 3 (ipykernel)",
   "language": "python",
   "name": "python3"
  },
  "language_info": {
   "codemirror_mode": {
    "name": "ipython",
    "version": 3
   },
   "file_extension": ".py",
   "mimetype": "text/x-python",
   "name": "python",
   "nbconvert_exporter": "python",
   "pygments_lexer": "ipython3",
   "version": "3.10.4"
  }
 },
 "nbformat": 4,
 "nbformat_minor": 5
}
